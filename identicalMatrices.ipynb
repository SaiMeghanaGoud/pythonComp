{
  "nbformat": 4,
  "nbformat_minor": 0,
  "metadata": {
    "colab": {
      "name": "identicalMatrices.ipynb",
      "provenance": [],
      "authorship_tag": "ABX9TyP91amCP93NX3hoKd4K9Ek8",
      "include_colab_link": true
    },
    "kernelspec": {
      "name": "python3",
      "display_name": "Python 3"
    },
    "language_info": {
      "name": "python"
    }
  },
  "cells": [
    {
      "cell_type": "markdown",
      "metadata": {
        "id": "view-in-github",
        "colab_type": "text"
      },
      "source": [
        "<a href=\"https://colab.research.google.com/github/SaiMeghanaGoud/pythonComp/blob/main/identicalMatrices.ipynb\" target=\"_parent\"><img src=\"https://colab.research.google.com/assets/colab-badge.svg\" alt=\"Open In Colab\"/></a>"
      ]
    },
    {
      "cell_type": "code",
      "execution_count": 1,
      "metadata": {
        "id": "Y4SdpQRYNhZ7"
      },
      "outputs": [],
      "source": [
        "a=[[1,1,1,1],[2,2,2,2],[3,3,3,3],[4,4,4,4]]\n",
        "b=[[1,1,1,1],[2,2,2,2],[3,3,3,3],[4,4,4,4]]"
      ]
    },
    {
      "cell_type": "code",
      "source": [
        "if a==b:\n",
        "  print('Matrices are identical')\n",
        "else:\n",
        "  print('Matrices are not identical')"
      ],
      "metadata": {
        "colab": {
          "base_uri": "https://localhost:8080/"
        },
        "id": "J4LhUfS_eHOv",
        "outputId": "90b8ea81-fa1f-489d-daa4-357449569df8"
      },
      "execution_count": 2,
      "outputs": [
        {
          "output_type": "stream",
          "name": "stdout",
          "text": [
            "Matrices are identical\n"
          ]
        }
      ]
    }
  ]
}